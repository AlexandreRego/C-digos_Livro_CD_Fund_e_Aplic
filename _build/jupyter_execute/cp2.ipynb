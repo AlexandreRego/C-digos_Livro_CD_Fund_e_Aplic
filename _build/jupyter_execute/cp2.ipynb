{
 "cells": [
  {
   "cell_type": "markdown",
   "id": "31ecb07c",
   "metadata": {},
   "source": [
    "# Python para Ciência de Dados\n",
    "\n",
    "\n",
    "## Manipulação de Dados Tabulares com Pandas - Funções Básicas"
   ]
  },
  {
   "cell_type": "code",
   "execution_count": 1,
   "id": "e8dddc2c",
   "metadata": {
    "tags": [
     "remove-output"
    ]
   },
   "outputs": [
    {
     "ename": "ModuleNotFoundError",
     "evalue": "No module named 'pandas'",
     "output_type": "error",
     "traceback": [
      "\u001b[0;31m---------------------------------------------------------------------------\u001b[0m",
      "\u001b[0;31mModuleNotFoundError\u001b[0m                       Traceback (most recent call last)",
      "Cell \u001b[0;32mIn[1], line 1\u001b[0m\n\u001b[0;32m----> 1\u001b[0m \u001b[38;5;28;01mimport\u001b[39;00m \u001b[38;5;21;01mpandas\u001b[39;00m \u001b[38;5;28;01mas\u001b[39;00m \u001b[38;5;21;01mpd\u001b[39;00m\n",
      "\u001b[0;31mModuleNotFoundError\u001b[0m: No module named 'pandas'"
     ]
    }
   ],
   "source": [
    "import pandas as pd"
   ]
  },
  {
   "cell_type": "code",
   "execution_count": null,
   "id": "43fb12ca",
   "metadata": {},
   "outputs": [],
   "source": [
    "cidades = pd.DataFrame(\n",
    "    [\n",
    "        ['Paraná', 'Londrina', 575377, 1356.00],\n",
    "        ['São Paulo', 'São Carlos', 254484, 1508.00],\n",
    "        ['Santa Catarina', 'Florianópolis', 508826, 1798.00],\n",
    "        ['Paraná', 'Curitiba', 1963726, 2293.00],\n",
    "        ['São Paulo', 'Campinas', 1223237, 1710.00]\n",
    "    ], columns=['Estado', 'Cidade', 'Habitantes', 'Salário-Médio'])\n",
    "\n",
    "cidades"
   ]
  },
  {
   "cell_type": "code",
   "execution_count": null,
   "id": "83595663",
   "metadata": {
    "tags": [
     "remove-output"
    ]
   },
   "outputs": [],
   "source": [
    "df = pd.read_csv('qualidade_vinho.csv', sep=',', header=0)\n",
    "df.head(2)"
   ]
  },
  {
   "cell_type": "code",
   "execution_count": null,
   "id": "c31f8e4d",
   "metadata": {},
   "outputs": [],
   "source": [
    "cidades.head(2) # Retorna um novo dataframe com as n primeiras amostras"
   ]
  },
  {
   "cell_type": "code",
   "execution_count": null,
   "id": "7be6471e",
   "metadata": {},
   "outputs": [],
   "source": [
    "cidades.tail(2) # Retorna um novo dataframe com as n últimas amostras"
   ]
  },
  {
   "cell_type": "code",
   "execution_count": null,
   "id": "7f665220",
   "metadata": {},
   "outputs": [],
   "source": [
    "cidades.shape # Retorna uma tupla com o número de linhas e colunas"
   ]
  },
  {
   "cell_type": "code",
   "execution_count": null,
   "id": "600fadf1",
   "metadata": {},
   "outputs": [],
   "source": [
    "cidades.info() # Retorna vazio e imprime na tela as informações gerais do dataframe"
   ]
  },
  {
   "cell_type": "code",
   "execution_count": null,
   "id": "74fd68c4",
   "metadata": {},
   "outputs": [],
   "source": [
    "cidades.columns # Retorna uma lista com o nome de todas as colunas"
   ]
  },
  {
   "cell_type": "code",
   "execution_count": null,
   "id": "42b6d263",
   "metadata": {},
   "outputs": [],
   "source": [
    "cidades['Salário-Médio'].describe() # Retorna um objeto DataFrame com as medidas estatísticas para cada coluna"
   ]
  },
  {
   "cell_type": "markdown",
   "id": "6162b72f",
   "metadata": {},
   "source": [
    "## Tipos de Dados com Pandas"
   ]
  },
  {
   "cell_type": "code",
   "execution_count": null,
   "id": "2141ef0f",
   "metadata": {},
   "outputs": [],
   "source": [
    "cidades.dtypes\n",
    "cidades.info()"
   ]
  },
  {
   "cell_type": "code",
   "execution_count": null,
   "id": "46ce6202",
   "metadata": {},
   "outputs": [],
   "source": [
    "cidades['Habitantes'] = cidades['Habitantes'].astype('float64')\n",
    "cidades.dtypes"
   ]
  },
  {
   "cell_type": "code",
   "execution_count": null,
   "id": "cb50935a",
   "metadata": {},
   "outputs": [],
   "source": [
    "cidades['Data'] = ['3-8-2021', '3-9-2021', '3-10-2021', '3-11-2021', '3-12-2021']\n",
    "\n",
    "cidades['Data'] = pd.to_datetime(cidades['Data'], format='%d-%m-%Y') # Dia, Mês, Ano\n",
    "\n",
    "cidades"
   ]
  },
  {
   "cell_type": "code",
   "execution_count": null,
   "id": "02596f02",
   "metadata": {},
   "outputs": [],
   "source": [
    "cidades['Data'] = cidades['Data'].dt.strftime('%d-%m-%Y') # Dia, Mês, Ano\n",
    "cidades # Novo Formato"
   ]
  },
  {
   "cell_type": "markdown",
   "id": "d4476263",
   "metadata": {},
   "source": [
    "## Renomeando Colunas"
   ]
  },
  {
   "cell_type": "code",
   "execution_count": null,
   "id": "a93dab4a",
   "metadata": {},
   "outputs": [],
   "source": [
    "cidades.rename(columns={'Habitantes': 'N Habitantes', 'Data': 'Data - Censo'}, inplace=True)\n",
    "cidades"
   ]
  },
  {
   "cell_type": "markdown",
   "id": "7b1de4c8",
   "metadata": {},
   "source": [
    "## Selecionando Linhas e Colunas"
   ]
  },
  {
   "cell_type": "code",
   "execution_count": null,
   "id": "3cd26d64",
   "metadata": {},
   "outputs": [],
   "source": [
    "cidadesHab = cidades[['N Habitantes', 'Salário-Médio']] # Seleciona as duas colunas com os nomes especificados\n",
    "cidadesHab"
   ]
  },
  {
   "cell_type": "code",
   "execution_count": null,
   "id": "41f58a6a",
   "metadata": {},
   "outputs": [],
   "source": [
    "cidades.loc[[1, 2]] # Seleciona as duas linhas com os nomes especificados (note que o \"rótulo\" de cada linha está presente na forma de números inteiros)"
   ]
  },
  {
   "cell_type": "code",
   "execution_count": null,
   "id": "aacd892a",
   "metadata": {},
   "outputs": [],
   "source": [
    "cidades.iloc[1:3] # Seleciona as linhas do dataframe original, referentes ao índice determinado"
   ]
  },
  {
   "cell_type": "code",
   "execution_count": null,
   "id": "9e1586d4",
   "metadata": {},
   "outputs": [],
   "source": [
    "cidades.iloc[:, 0:2] # Seleciona todas as linhas e as duas primeiras colunas do dataframe original"
   ]
  },
  {
   "cell_type": "code",
   "execution_count": null,
   "id": "74ab2676",
   "metadata": {},
   "outputs": [],
   "source": [
    "cidades.iloc[1:3, :3] # Seleciona as duas primeiras linhas e as três primeiras colunas"
   ]
  },
  {
   "cell_type": "code",
   "execution_count": null,
   "id": "3a9c4cb5",
   "metadata": {},
   "outputs": [],
   "source": [
    "cidades.iloc[:, [1, 3, 0, 2]] # Seleciona todas as linhas e as colunas determinadas"
   ]
  },
  {
   "cell_type": "markdown",
   "id": "3586b44a",
   "metadata": {},
   "source": [
    "## Adicionando e Removendo Colunas"
   ]
  },
  {
   "cell_type": "code",
   "execution_count": null,
   "id": "84c7b13d",
   "metadata": {},
   "outputs": [],
   "source": [
    "cidades.insert(2, 'Sigla', ['PR', 'SP', 'SC', 'PR', 'SP']) # Adiciona novos dados no índice dois\n",
    "cidades.insert(2, 'Sigla-Repetida', cidades['Sigla']) # Adiciona uma coluna repetida \"Sigla\"\n",
    "cidades"
   ]
  },
  {
   "cell_type": "code",
   "execution_count": null,
   "id": "8dbd681f",
   "metadata": {},
   "outputs": [],
   "source": [
    "cidades.pop('Sigla-Repetida')\n",
    "\n",
    "# ou\n",
    "\n",
    "cidades = cidades.drop(['Sigla-Repetida'], axis=1)\n",
    "cidades"
   ]
  },
  {
   "cell_type": "markdown",
   "id": "d9693daf",
   "metadata": {},
   "source": [
    "## Operações Básicas - Consultas"
   ]
  },
  {
   "cell_type": "code",
   "execution_count": null,
   "id": "c8eed7e1",
   "metadata": {},
   "outputs": [],
   "source": [
    "cidades.query('`Salário-Médio` > 1400.0')"
   ]
  },
  {
   "cell_type": "code",
   "execution_count": null,
   "id": "9b51bb8c",
   "metadata": {},
   "outputs": [],
   "source": [
    "cidades.query('Estado == \"São Paulo\"')"
   ]
  },
  {
   "cell_type": "code",
   "execution_count": null,
   "id": "67b911c0",
   "metadata": {},
   "outputs": [],
   "source": [
    "cidades.query('`N Habitantes` > 500000 and `N Habitantes` < 1300000')"
   ]
  },
  {
   "cell_type": "markdown",
   "id": "638b5069",
   "metadata": {},
   "source": [
    "## Operações Básicas - Ordenação"
   ]
  },
  {
   "cell_type": "code",
   "execution_count": null,
   "id": "afcff385",
   "metadata": {},
   "outputs": [],
   "source": [
    "cidades.sort_values(by='Cidade', inplace=True)\n",
    "cidades"
   ]
  },
  {
   "cell_type": "code",
   "execution_count": null,
   "id": "959c8837",
   "metadata": {},
   "outputs": [],
   "source": [
    "cidades.sort_values(by='Salário-Médio', inplace=True)\n",
    "cidades"
   ]
  },
  {
   "cell_type": "markdown",
   "id": "6588856d",
   "metadata": {},
   "source": [
    "## Operações Básicas - Combinando DataFrames"
   ]
  },
  {
   "cell_type": "code",
   "execution_count": null,
   "id": "9d8f4040",
   "metadata": {},
   "outputs": [],
   "source": [
    "cidades_salarios = pd.DataFrame(\n",
    "    [\n",
    "        ['Paraná', 'Londrina', 1356.00],\n",
    "        ['São Paulo', 'São Carlos', 1508.00],\n",
    "        ['Santa Catarina', 'Florianópolis', 1798.00],\n",
    "        ['Paraná', 'Curitiba', 2293.00],\n",
    "        ['São Paulo', 'Campinas', 1710.00]\n",
    "    ], columns=['Estado', 'Cidade', 'Salário-Médio'])\n",
    "\n",
    "cidades_salarios"
   ]
  },
  {
   "cell_type": "code",
   "execution_count": null,
   "id": "2f2bd722",
   "metadata": {},
   "outputs": [],
   "source": [
    "cidades_pop = pd.DataFrame(\n",
    "    [\n",
    "        ['Londrina', 575377],\n",
    "        ['São Carlos', 254484],\n",
    "        ['Florianópolis', 508826],\n",
    "        ['Curitiba', 1963726],\n",
    "        ['Campinas', 1223237]\n",
    "    ], columns=['Cidade', 'Habitantes'])\n",
    "\n",
    "cidades_pop"
   ]
  },
  {
   "cell_type": "code",
   "execution_count": null,
   "id": "f9ae2131",
   "metadata": {},
   "outputs": [],
   "source": [
    "pd.merge(left=cidades_salarios, right=cidades_pop, on=\"Cidade\")"
   ]
  },
  {
   "cell_type": "code",
   "execution_count": null,
   "id": "436cacb8",
   "metadata": {},
   "outputs": [],
   "source": [
    "pd.merge(left=cidades_salarios, right=cidades_pop, on=\"Cidade\", how=\"outer\")"
   ]
  },
  {
   "cell_type": "code",
   "execution_count": null,
   "id": "e0547b53",
   "metadata": {},
   "outputs": [],
   "source": [
    "cidades_df1 = pd.DataFrame(\n",
    "    [\n",
    "        ['Londrina', 575377],\n",
    "        ['São Carlos', 254484],\n",
    "        ['Florianópolis', 508826],\n",
    "    ], columns=['Cidade', 'Habitantes'])\n",
    "\n",
    "cidades_df1"
   ]
  },
  {
   "cell_type": "code",
   "execution_count": null,
   "id": "a76a6f92",
   "metadata": {},
   "outputs": [],
   "source": [
    "cidades_df2 = pd.DataFrame(\n",
    "    [\n",
    "        ['Curitiba', 1963726],\n",
    "        ['Campinas', 1223237]\n",
    "    ], columns=['Cidade', 'Habitantes'])\n",
    "\n",
    "cidades_df2"
   ]
  },
  {
   "cell_type": "code",
   "execution_count": null,
   "id": "a166da5b",
   "metadata": {},
   "outputs": [],
   "source": [
    "pd.concat([cidades_df1, cidades_df2], ignore_index=True)"
   ]
  },
  {
   "cell_type": "markdown",
   "id": "c2a20716",
   "metadata": {},
   "source": [
    "## Operações Básicas - Salvando DataFrames"
   ]
  },
  {
   "cell_type": "code",
   "execution_count": null,
   "id": "68747a03",
   "metadata": {},
   "outputs": [],
   "source": [
    "cidades.to_csv(\"my_df.csv\")\n",
    "cidades.to_html(\"my_df.html\")\n",
    "cidades.to_json(\"my_df.json\")"
   ]
  }
 ],
 "metadata": {
  "jupytext": {
   "formats": "md:myst",
   "text_representation": {
    "extension": ".md",
    "format_name": "myst",
    "format_version": 0.13,
    "jupytext_version": "1.11.5"
   }
  },
  "kernelspec": {
   "display_name": "Python 3",
   "language": "python",
   "name": "python3"
  },
  "language_info": {
   "codemirror_mode": {
    "name": "ipython",
    "version": 3
   },
   "file_extension": ".py",
   "mimetype": "text/x-python",
   "name": "python",
   "nbconvert_exporter": "python",
   "pygments_lexer": "ipython3",
   "version": "3.9.16"
  },
  "source_map": [
   13,
   20,
   25,
   38,
   44,
   48,
   52,
   56,
   60,
   64,
   66,
   71,
   76,
   81,
   89,
   92,
   97,
   100,
   105,
   110,
   114,
   118,
   122,
   126,
   128,
   133,
   139,
   146,
   150,
   154,
   158,
   160,
   165,
   170,
   173,
   178,
   191,
   204,
   208,
   212,
   223,
   233,
   235,
   240
  ]
 },
 "nbformat": 4,
 "nbformat_minor": 5
}