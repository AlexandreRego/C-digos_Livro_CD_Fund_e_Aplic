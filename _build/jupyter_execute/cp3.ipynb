{
 "cells": [
  {
   "cell_type": "markdown",
   "id": "e0679951",
   "metadata": {},
   "source": [
    "# Visualização para Exploração de Dados\n",
    "\n",
    "\n",
    "## Gráficos de Barras ou Colunas"
   ]
  },
  {
   "cell_type": "code",
   "execution_count": 1,
   "id": "5d0c6d3b",
   "metadata": {
    "tags": [
     "remove-output"
    ]
   },
   "outputs": [
    {
     "ename": "ModuleNotFoundError",
     "evalue": "No module named 'pandas'",
     "output_type": "error",
     "traceback": [
      "\u001b[0;31m---------------------------------------------------------------------------\u001b[0m",
      "\u001b[0;31mModuleNotFoundError\u001b[0m                       Traceback (most recent call last)",
      "Cell \u001b[0;32mIn[1], line 1\u001b[0m\n\u001b[0;32m----> 1\u001b[0m \u001b[38;5;28;01mimport\u001b[39;00m \u001b[38;5;21;01mpandas\u001b[39;00m \u001b[38;5;28;01mas\u001b[39;00m \u001b[38;5;21;01mpd\u001b[39;00m\n",
      "\u001b[0;31mModuleNotFoundError\u001b[0m: No module named 'pandas'"
     ]
    }
   ],
   "source": [
    "import pandas as pd"
   ]
  },
  {
   "cell_type": "code",
   "execution_count": null,
   "id": "884509fc",
   "metadata": {},
   "outputs": [],
   "source": [
    "cidades = pd.DataFrame(\n",
    "    [\n",
    "        ['Paraná', 'Londrina', 575377, 1356.00],\n",
    "        ['São Paulo', 'São Carlos', 254484, 1508.00],\n",
    "        ['Santa Catarina', 'Florianópolis', 508826, 1798.00],\n",
    "        ['Paraná', 'Curitiba', 1963726, 2293.00],\n",
    "        ['São Paulo', 'Campinas', 1223237, 1710.00]\n",
    "    ], columns=['Estado', 'Cidade', 'Habitantes', 'Salário-Médio'])\n",
    "\n",
    "cidades"
   ]
  },
  {
   "cell_type": "code",
   "execution_count": null,
   "id": "094d7afe",
   "metadata": {
    "tags": [
     "remove-output"
    ]
   },
   "outputs": [],
   "source": [
    "df = pd.read_csv('qualidade_vinho.csv', sep=',', header=0)\n",
    "df.head(2)"
   ]
  }
 ],
 "metadata": {
  "jupytext": {
   "formats": "md:myst",
   "text_representation": {
    "extension": ".md",
    "format_name": "myst",
    "format_version": 0.13,
    "jupytext_version": "1.11.5"
   }
  },
  "kernelspec": {
   "display_name": "Python 3",
   "language": "python",
   "name": "python3"
  },
  "language_info": {
   "codemirror_mode": {
    "name": "ipython",
    "version": 3
   },
   "file_extension": ".py",
   "mimetype": "text/x-python",
   "name": "python",
   "nbconvert_exporter": "python",
   "pygments_lexer": "ipython3",
   "version": "3.9.16"
  },
  "source_map": [
   13,
   20,
   25,
   38
  ]
 },
 "nbformat": 4,
 "nbformat_minor": 5
}