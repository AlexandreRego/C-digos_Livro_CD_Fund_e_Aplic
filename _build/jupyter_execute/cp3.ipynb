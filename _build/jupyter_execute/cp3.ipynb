{
 "cells": [
  {
   "cell_type": "markdown",
   "id": "f0ed8173",
   "metadata": {},
   "source": [
    "# Visualização para Exploração de Dados\n",
    "\n",
    "```{admonition} Importante\n",
    ":class: tip\n",
    "Para execução dos códigos, é necessário instalar as seguintes bibliotecas: \n",
    "\n",
    " - *!pip install seaborn*\n",
    " - *!pip install matplotlib*\n",
    " - *!pip install wordcloud*\n",
    " - *!pip install plotly==5.13.1*\n",
    "```"
   ]
  },
  {
   "cell_type": "code",
   "execution_count": 1,
   "id": "3667d3c9",
   "metadata": {
    "tags": [
     "remove-output"
    ]
   },
   "outputs": [
    {
     "ename": "ModuleNotFoundError",
     "evalue": "No module named 'numpy'",
     "output_type": "error",
     "traceback": [
      "\u001b[0;31m---------------------------------------------------------------------------\u001b[0m",
      "\u001b[0;31mModuleNotFoundError\u001b[0m                       Traceback (most recent call last)",
      "Cell \u001b[0;32mIn[1], line 1\u001b[0m\n\u001b[0;32m----> 1\u001b[0m \u001b[38;5;28;01mimport\u001b[39;00m \u001b[38;5;21;01mnumpy\u001b[39;00m \u001b[38;5;28;01mas\u001b[39;00m \u001b[38;5;21;01mnp\u001b[39;00m\n\u001b[1;32m      2\u001b[0m \u001b[38;5;28;01mimport\u001b[39;00m \u001b[38;5;21;01mpandas\u001b[39;00m \u001b[38;5;28;01mas\u001b[39;00m \u001b[38;5;21;01mpd\u001b[39;00m\n\u001b[1;32m      3\u001b[0m \u001b[38;5;28;01mimport\u001b[39;00m \u001b[38;5;21;01mseaborn\u001b[39;00m \u001b[38;5;28;01mas\u001b[39;00m \u001b[38;5;21;01msns\u001b[39;00m\n",
      "\u001b[0;31mModuleNotFoundError\u001b[0m: No module named 'numpy'"
     ]
    }
   ],
   "source": [
    "import numpy as np\n",
    "import pandas as pd\n",
    "import seaborn as sns\n",
    "import matplotlib.pyplot as plt\n",
    "from wordcloud import WordCloud\n",
    "import plotly\n",
    "import plotly.graph_objects as go\n",
    "plotly.offline.init_notebook_mode(connected=True)"
   ]
  },
  {
   "cell_type": "markdown",
   "id": "56499edc",
   "metadata": {},
   "source": [
    "## Gráficos de Barras ou Colunas"
   ]
  },
  {
   "cell_type": "code",
   "execution_count": null,
   "id": "ebc0eb23",
   "metadata": {
    "tags": [
     "remove-output"
    ]
   },
   "outputs": [],
   "source": [
    "data = df_brasil.groupby(by=['STATE']).mean()['GDP_CAPITA']\n",
    "ax = data.plot.bar(figsize=(10,5))\n",
    "\n",
    "_ = ax.set(xlabel='Estados', ylabel='Produto interno Bruto (PIB) per capita')"
   ]
  },
  {
   "cell_type": "code",
   "execution_count": null,
   "id": "5395b4f1",
   "metadata": {
    "tags": [
     "remove-output"
    ]
   },
   "outputs": [],
   "source": [
    "data = df_brasil.groupby(by=['REGION']).agg({'CITY': 'count', 'POPULATION_2018': 'sum'})\n",
    "\n",
    "data['CITY'] = (data['CITY'] / data['CITY'].sum()) * 100\n",
    "                \n",
    "data['POPULATION_2018'] = (data['POPULATION_2018'] / data['POPULATION_2018'].sum()) * 100\n",
    "\n",
    "ax = data.plot.barh(figsize=(10,5))\n",
    "\n",
    "_ = ax.set(xlabel='Porcentagem com relação ao Brasil', ylabel='Região')\n",
    "_ = ax.legend(['Porcentagem de cidades por região no Brasil', 'Porcentagem de pessoas por região no Brasil'])"
   ]
  },
  {
   "cell_type": "markdown",
   "id": "7c2ce93b",
   "metadata": {},
   "source": [
    "## Gráfico de Setor"
   ]
  },
  {
   "cell_type": "code",
   "execution_count": null,
   "id": "8084045b",
   "metadata": {
    "tags": [
     "remove-output"
    ]
   },
   "outputs": [],
   "source": [
    "# Especifica a sequência de cores a ser utilizada na visualização\n",
    "colors = ['lightskyblue', 'red', 'blue', 'green', 'gold']\n",
    "fig, axes = plt.subplots(nrows=1, ncols=2, figsize=(15, 15))\n",
    "\n",
    "_ = df_brasil.groupby(by=['REGION']).sum()['TAXES'].plot.pie(colors=colors, autopct='%1.1f%%', ax=axes[0])\n",
    "_ = df_brasil.groupby(by=['REGION']).sum()['GDP'].plot.pie(colors=colors, autopct='%1.1f%%', ax=axes[1])\n",
    "\n",
    "_ = axes[0].set(xlabel='Distribuição do volume de impostos pagos por região do Brasil em 2016', ylabel='')\n",
    "_ = axes[1].set(xlabel='Distribuição do PIB por região do Brasil em 2016', ylabel='')"
   ]
  },
  {
   "cell_type": "markdown",
   "id": "090e9677",
   "metadata": {},
   "source": [
    "## Gráficos de Dispersão"
   ]
  },
  {
   "cell_type": "code",
   "execution_count": null,
   "id": "35f13432",
   "metadata": {
    "tags": [
     "remove-output"
    ]
   },
   "outputs": [],
   "source": [
    "# O valor de despesas de alguns municípios não foi disponibilizado na base de dados\n",
    "data = df_brasil.query(\"MUN_EXPENDIT != 0\")\n",
    "\n",
    "f, ax = plt.subplots(figsize=(10, 6))\n",
    "plt.yscale('log')\n",
    "\n",
    "sct_plot = sns.scatterplot(x=data['IDHM'],\n",
    "                           y=data['MUN_EXPENDIT'],\n",
    "                           hue=data['REGION'])\n",
    "\n",
    "sct_plot.set_xlabel(xlabel = 'IDH do município', fontsize = 12)\n",
    "sct_plot.set_ylabel(ylabel = 'Gastos do município', fontsize = 12)"
   ]
  },
  {
   "cell_type": "code",
   "execution_count": null,
   "id": "bb220b65",
   "metadata": {
    "tags": [
     "remove-output"
    ]
   },
   "outputs": [],
   "source": [
    "f, ax = plt.subplots(figsize=(8, 8))\n",
    "sns.scatterplot(x=data.LONG,\n",
    "                y=data.LAT ,\n",
    "                hue=data['IDHM'],\n",
    "                size=data['MUN_EXPENDIT'])\n",
    "\n",
    "_ = plt.title(\"Distribuição de municípios brasileiros de acordo com o seu IDH, suas despesas e a região onde se encontram.\""
   ]
  },
  {
   "cell_type": "code",
   "execution_count": null,
   "id": "a8154994",
   "metadata": {
    "tags": [
     "remove-output"
    ]
   },
   "outputs": [],
   "source": [
    "df = df_brasil[['WHEELED_TRACTOR', 'PLANTED_AREA', 'AREA', 'REGION']]\n",
    "\n",
    "# Para filtrar municípios sem tratores registrados\n",
    "df = df[df['WHEELED_TRACTOR'] != 0]\n",
    "\n",
    "df['WHEELED_TRACTOR'] = np.log(df['WHEELED_TRACTOR'])\n",
    "df['PLANTED_AREA'] = np.log(df['PLANTED_AREA'])\n",
    "df['AREA'] = np.log(df['AREA'])\n",
    "\n",
    "_ = sns.pairplot(df, hue=\"REGION\")"
   ]
  },
  {
   "cell_type": "markdown",
   "id": "190e16bb",
   "metadata": {},
   "source": [
    "## Gráficos de Linhas"
   ]
  },
  {
   "cell_type": "code",
   "execution_count": null,
   "id": "7d3fb250",
   "metadata": {
    "tags": [
     "remove-output"
    ]
   },
   "outputs": [],
   "source": [
    "data = df_brasil.groupby('STATE').sum()[['POPULATION_2010', 'POPULATION_2018']]\n",
    "\n",
    "plot = data.plot.line(figsize=(15,5))\n",
    "_ = plt.xticks(range(0,len(data.index)), labels=data.index, rotation=45)\n",
    "_ = plot.set(xlabel='Estados', ylabel='População')"
   ]
  },
  {
   "cell_type": "markdown",
   "id": "226ca293",
   "metadata": {},
   "source": [
    "## Gráficos de Radar"
   ]
  },
  {
   "cell_type": "code",
   "execution_count": null,
   "id": "38090e73",
   "metadata": {
    "tags": [
     "remove-output"
    ]
   },
   "outputs": [],
   "source": [
    "data = df_brasil.groupby(by=['REGION']).agg({'CITY': 'count', \n",
    "                                       'POPULATION_2018': 'sum',\n",
    "                                       'AREA': 'sum',\n",
    "                                       'GDP': 'sum',\n",
    "                                       'COMP_TOT': 'sum',\n",
    "                                       'TAXES': 'sum'})\n",
    "\n",
    "# Colocando os valores individuais em proporção do valor total\n",
    "for col in data.columns:\n",
    "    data[col] = data[col] / sum(data[col])\n",
    "    \n",
    "fig = go.Figure(\n",
    "    data=[go.Scatterpolar(r=data.values[0], theta=data.columns, fill='toself', name=data.index[0]),\n",
    "          go.Scatterpolar(r=data.values[1], theta=data.columns, fill='toself', name=data.index[1]),\n",
    "          go.Scatterpolar(r=data.values[2], theta=data.columns, fill='toself', name=data.index[2]),\n",
    "          go.Scatterpolar(r=data.values[3], theta=data.columns, fill='toself', name=data.index[3]),\n",
    "          go.Scatterpolar(r=data.values[4], theta=data.columns, fill='toself', name=data.index[4])],\n",
    "    layout=go.Layout(\n",
    "        polar={'radialaxis': {'visible': True}},\n",
    "        showlegend=True\n",
    "    )\n",
    ")\n",
    "\n",
    "fig.show()"
   ]
  },
  {
   "cell_type": "markdown",
   "id": "4366cb8d",
   "metadata": {},
   "source": [
    "## Gráficos de Coordenadas Paralelas"
   ]
  },
  {
   "cell_type": "code",
   "execution_count": null,
   "id": "e13ba35c",
   "metadata": {
    "tags": [
     "remove-output"
    ]
   },
   "outputs": [],
   "source": [
    "data = df_brasil.query(\"REGION == 'SUL' or \\\n",
    "                               REGION == 'NORDESTE'\")\n",
    "\n",
    "# Criando codificação para visualização das variáveis categóricas\n",
    "category_rural_urban = data.RURAL_URBAN.astype('category').cat\n",
    "category_region = data.REGION.astype('category').cat\n",
    "\n",
    "# Declarando o gráfico com Plotly\n",
    "fig = go.Figure(data=\n",
    "    go.Parcoords(\n",
    "        line = dict(color = category_region.codes),\n",
    "        dimensions = list([\n",
    "            dict(label = 'Área Total Média', values = data['AREA']),\n",
    "            dict(label = 'Populaçao em 2018', values = data['POPULATION_2018']),\n",
    "            dict(tickvals = [0, 1, 2, 3, 4],\n",
    "                 ticktext = category_rural_urban.categories,\n",
    "                 label = 'Tipologia Rural/Urbano', values = category_rural_urban.codes),\n",
    "            dict(label = 'PIB per capita', values = data['GDP_CAPITA']),\n",
    "            dict(label = \"Região\", tickvals = [0, 1], ticktext=category_region.categories, values = category_region.codes),\n",
    "        ])\n",
    "    )\n",
    ")\n",
    "\n",
    "fig.show()"
   ]
  },
  {
   "cell_type": "code",
   "execution_count": null,
   "id": "f274b5de",
   "metadata": {
    "tags": [
     "remove-output"
    ]
   },
   "outputs": [],
   "source": [
    "data = df_brasil.query(\"REGION == 'SUL' or \\\n",
    "                               REGION == 'NORDESTE'\")\n",
    "\n",
    "# Criando codificação para visualização das variáveis categóricas\n",
    "category_rural_urban = data.RURAL_URBAN.astype('category').cat\n",
    "category_state = data.REGION.astype('category').cat\n",
    "\n",
    "# Declarando o gráfico com Plotly\n",
    "fig = go.Figure(data=\n",
    "    go.Parcoords(\n",
    "        line = dict(color = category_state.codes,),\n",
    "                    #showscale = True),\n",
    "        dimensions = list([\n",
    "            dict(label = 'Área Total Média', values = data['AREA']),\n",
    "            dict(label = 'Populaçao em 2018', values = data['POPULATION_2018']),\n",
    "            dict(tickvals = [0, 1, 2, 3, 4],\n",
    "                 ticktext = category_rural_urban.categories,\n",
    "                 label = 'Tipologia Rural/Urbano', values = category_rural_urban.codes),\n",
    "            dict(label = 'PIB per capita', values = data['GDP_CAPITA']),\n",
    "            dict(label = \"Região\", tickvals = [0, 1], ticktext=category_state.categories, values = category_state.codes),\n",
    "        ])\n",
    "    )\n",
    ")\n",
    "\n",
    "fig.show()"
   ]
  },
  {
   "cell_type": "markdown",
   "id": "48adb7c7",
   "metadata": {},
   "source": [
    "## Histogramas"
   ]
  },
  {
   "cell_type": "code",
   "execution_count": null,
   "id": "e671fbc9",
   "metadata": {
    "tags": [
     "remove-output"
    ]
   },
   "outputs": [],
   "source": [
    "f, ax = plt.subplots(figsize=(14, 6))\n",
    "\n",
    "filtro = df_brasil['GDP_CAPITA'] > df_brasil['GDP_CAPITA'].quantile(0.95)\n",
    "\n",
    "ax = df_brasil[filtro]['STATE'].hist(histtype='bar', grid=False)\n",
    "_ = ax.set(xlabel='Estado', ylabel='Proporção de PIB per capita')"
   ]
  },
  {
   "cell_type": "markdown",
   "id": "21953244",
   "metadata": {},
   "source": [
    "## Gráfico de Caixa - BoxPlot"
   ]
  },
  {
   "cell_type": "code",
   "execution_count": null,
   "id": "df1ae7b4",
   "metadata": {
    "tags": [
     "remove-output"
    ]
   },
   "outputs": [],
   "source": [
    "ax = df_brasil.boxplot(column='IDHM', by='STATE', figsize=(15,6))\n",
    "_ = ax.set(xlabel='', ylabel='')\n",
    "plt.title('IDH dos municípios de cada estado.')\n",
    "plt.suptitle('')"
   ]
  },
  {
   "cell_type": "markdown",
   "id": "cddbf524",
   "metadata": {},
   "source": [
    "## Gráficos de Violino"
   ]
  },
  {
   "cell_type": "code",
   "execution_count": null,
   "id": "15070f79",
   "metadata": {
    "tags": [
     "remove-output"
    ]
   },
   "outputs": [],
   "source": [
    "fig, axes = plt.subplots(nrows=1, ncols=2, figsize=(12, 5))\n",
    "\n",
    "violin_hdi = sns.violinplot(x = 'CAPITAL', y = 'IDHM', data = df_brasil, palette = \"Set3\", ax=axes[0])\n",
    "violin_hdi.set_xlabel(xlabel = 'É Capital?', fontsize = 12)\n",
    "violin_hdi.set_ylabel(ylabel = 'IDH', fontsize = 12)\n",
    "violin_hdi.set_title(label = 'Capital vs IDH', fontsize = 15)\n",
    "\n",
    "box_hdi = sns.boxplot(x = 'CAPITAL', y = 'IDHM', data = df_brasil, palette = \"Set3\", ax=axes[1])\n",
    "box_hdi.set_xlabel(xlabel = 'É Capital?', fontsize = 12)\n",
    "box_hdi.set_ylabel(ylabel = 'IDH', fontsize = 12)\n",
    "box_hdi.set_title(label = 'Capital vs IDH', fontsize = 15)"
   ]
  },
  {
   "cell_type": "markdown",
   "id": "225aa1c3",
   "metadata": {},
   "source": [
    "## Nuvens de Palavras"
   ]
  },
  {
   "cell_type": "code",
   "execution_count": null,
   "id": "8b96648b",
   "metadata": {
    "tags": [
     "remove-output"
    ]
   },
   "outputs": [],
   "source": [
    "text = ' '.join(df_brasil['CITY'])\n",
    "\n",
    "# Remoção de palavras repetidas irrelevantes\n",
    "stop_words = ['De', 'Do', 'Da']\n",
    "\n",
    "# Mapeamento da frequência de cada palavra e produção da nuvem de palavras\n",
    "wordcloud = WordCloud(background_color=\"white\",\n",
    "                      max_words=len(df_brasil),\n",
    "                      max_font_size=70,\n",
    "                      stopwords=stop_words,\n",
    "                      height=300,\n",
    "                      width=600).generate(text)\n",
    "\n",
    "plt.figure(figsize=(20,12))\n",
    "plt.imshow(wordcloud, interpolation=\"bilinear\")\n",
    "plt.axis(\"off\")"
   ]
  },
  {
   "cell_type": "markdown",
   "id": "7c87b6e8",
   "metadata": {},
   "source": [
    "## Mapas de Calor"
   ]
  },
  {
   "cell_type": "code",
   "execution_count": null,
   "id": "ec56eb08",
   "metadata": {
    "tags": [
     "remove-output"
    ]
   },
   "outputs": [],
   "source": [
    "f, ax = plt.subplots(figsize=(8, 6))\n",
    "ax = sns.heatmap(df_brasil.corr())"
   ]
  }
 ],
 "metadata": {
  "jupytext": {
   "formats": "md:myst",
   "text_representation": {
    "extension": ".md",
    "format_name": "myst",
    "format_version": 0.13,
    "jupytext_version": "1.11.5"
   }
  },
  "kernelspec": {
   "display_name": "Python 3",
   "language": "python",
   "name": "python3"
  },
  "language_info": {
   "codemirror_mode": {
    "name": "ipython",
    "version": 3
   },
   "file_extension": ".py",
   "mimetype": "text/x-python",
   "name": "python",
   "nbconvert_exporter": "python",
   "pygments_lexer": "ipython3",
   "version": "3.9.16"
  },
  "source_map": [
   13,
   27,
   37,
   41,
   49,
   61,
   65,
   76,
   80,
   96,
   107,
   119,
   123,
   130,
   134,
   160,
   164,
   192,
   219,
   223,
   231,
   235,
   241,
   245,
   258,
   262,
   280,
   284
  ]
 },
 "nbformat": 4,
 "nbformat_minor": 5
}