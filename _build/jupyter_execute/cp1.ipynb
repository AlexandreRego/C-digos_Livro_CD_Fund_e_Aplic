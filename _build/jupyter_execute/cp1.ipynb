{
 "cells": [
  {
   "cell_type": "markdown",
   "id": "0ae470ec",
   "metadata": {},
   "source": [
    "# Conceitos Gerais da Linguagem Python\n",
    "\n",
    "\n",
    "## A Linguagem Python"
   ]
  },
  {
   "cell_type": "code",
   "execution_count": 1,
   "id": "d143a46a",
   "metadata": {},
   "outputs": [
    {
     "name": "stdout",
     "output_type": "stream",
     "text": [
      "Primeiro código!\n"
     ]
    }
   ],
   "source": [
    "print('Primeiro código!')"
   ]
  },
  {
   "cell_type": "markdown",
   "id": "a04dd41c",
   "metadata": {},
   "source": [
    "## Tipos Básicos e Variáveis"
   ]
  },
  {
   "cell_type": "code",
   "execution_count": 2,
   "id": "0c2cc6bd",
   "metadata": {},
   "outputs": [
    {
     "name": "stdout",
     "output_type": "stream",
     "text": [
      "<class 'int'>\n",
      "<class 'float'>\n",
      "<class 'str'>\n",
      "<class 'bool'>\n"
     ]
    }
   ],
   "source": [
    "valor_int = 3  # Tipo inteiro\n",
    "valor_float = 1.5  # Tipo ponto flutuante\n",
    "string = \"Olá Mundo!\"  # Tipo string\n",
    "var_bool = True  # Tipo booleano\n",
    "\n",
    "print(type(valor_int))\n",
    "print(type(valor_float))\n",
    "print(type(string))\n",
    "print(type(var_bool))"
   ]
  },
  {
   "cell_type": "code",
   "execution_count": 3,
   "id": "5b8f46dc",
   "metadata": {},
   "outputs": [
    {
     "name": "stdout",
     "output_type": "stream",
     "text": [
      "16.5\n",
      "<class 'float'>\n"
     ]
    }
   ],
   "source": [
    "valor_int  = 15\n",
    "valor_float = 1.5\n",
    "soma = valor_int + valor_float\n",
    "print(soma)\n",
    "print(type(soma))"
   ]
  },
  {
   "cell_type": "code",
   "execution_count": 4,
   "id": "d4183c44",
   "metadata": {},
   "outputs": [
    {
     "name": "stdout",
     "output_type": "stream",
     "text": [
      "100\n",
      "<class 'str'>\n",
      "12\n",
      "<class 'int'>\n",
      "10.0\n",
      "<class 'float'>\n"
     ]
    }
   ],
   "source": [
    "# Conversão de um valor do tipo inteiro para um valor do tipo string\n",
    "a = 100\n",
    "b = str(a)\n",
    "print(b)\n",
    "print(type(b))\n",
    "\n",
    "# Conversão de um valor do tipo float para um valor do tipo inteiro\n",
    "c = 12.0\n",
    "d = int(c)\n",
    "print(d)\n",
    "print(type(d))\n",
    "\n",
    "# Conversão de um valor do tipo inteiro para um valor do tipo float\n",
    "e = 10\n",
    "f = float(e)\n",
    "print(f)\n",
    "print(type(f))"
   ]
  },
  {
   "cell_type": "markdown",
   "id": "30b1d9d7",
   "metadata": {},
   "source": [
    "## Expressões"
   ]
  },
  {
   "cell_type": "code",
   "execution_count": 5,
   "id": "30c36e62",
   "metadata": {},
   "outputs": [
    {
     "name": "stdout",
     "output_type": "stream",
     "text": [
      "Soma: 13\n",
      "Subtração: 7\n",
      "Divisão: 3\n",
      "Multiplicação: 30\n"
     ]
    }
   ],
   "source": [
    "a = 10\n",
    "b = 3\n",
    "\n",
    "# Soma do valor de duas variáveis\n",
    "soma = a + b\n",
    "\n",
    "# Subtração do valor de duas variáveis\n",
    "sub = a - b\n",
    "\n",
    "# Divisão do valor de duas variáveis\n",
    "div = a / b\n",
    "\n",
    "# Multiplicação do valor de duas variáveis\n",
    "mult = a * b\n",
    "\n",
    "print('Soma: %d' % (soma))\n",
    "print('Subtração: %d' % (sub))\n",
    "print('Divisão: %d' % (div))\n",
    "print('Multiplicação: %d' % (mult))"
   ]
  },
  {
   "cell_type": "code",
   "execution_count": 6,
   "id": "6d42c9d4",
   "metadata": {},
   "outputs": [
    {
     "name": "stdout",
     "output_type": "stream",
     "text": [
      "Resto: 1\n",
      "Exponencial: 1000\n",
      "Piso da divisão: 3\n"
     ]
    }
   ],
   "source": [
    "# Resto de uma divisão de um valor do tipo inteiro por outro valor do tipo inteiro\n",
    "res = a % b\n",
    "\n",
    "# Resultado de elevar um valor do tipo inteiro a outro valor do tipo inteiro\n",
    "exp = a ** b\n",
    "\n",
    "# Piso, parte inteira de uma divisão de valores do tipo inteiro\n",
    "pis = a // b\n",
    "\n",
    "print('Resto: %d' % (res))\n",
    "print('Exponencial: %d' % (exp))\n",
    "print('Piso da divisão: %d' % (pis))"
   ]
  },
  {
   "cell_type": "code",
   "execution_count": 7,
   "id": "9ef2a0bb",
   "metadata": {},
   "outputs": [
    {
     "name": "stdout",
     "output_type": "stream",
     "text": [
      "Meu nome é Robson, tenho 28 anos e 1.85 de altura!\n"
     ]
    }
   ],
   "source": [
    "nome = 'Robson'\n",
    "idade = 28\n",
    "altura = 1.85\n",
    "\n",
    "print('Meu nome é %s, tenho %d anos e %.2f de altura!' % (nome, idade, altura))"
   ]
  },
  {
   "cell_type": "code",
   "execution_count": 8,
   "id": "d15d1d2e",
   "metadata": {},
   "outputs": [
    {
     "name": "stdout",
     "output_type": "stream",
     "text": [
      "O valor da primeira variável é 2 enquanto o da segunda é 3\n"
     ]
    }
   ],
   "source": [
    "aux_01 = 2\n",
    "aux_02 = 3\n",
    "\n",
    "print('O valor da primeira variável é {} enquanto o da segunda é {}'.format(aux_01, aux_02))"
   ]
  },
  {
   "cell_type": "markdown",
   "id": "9c741264",
   "metadata": {},
   "source": [
    "## Operadores Relacionais"
   ]
  },
  {
   "cell_type": "code",
   "execution_count": 9,
   "id": "60fac80c",
   "metadata": {},
   "outputs": [
    {
     "name": "stdout",
     "output_type": "stream",
     "text": [
      "Valor de c: False\n",
      "Valor de d: True\n",
      "Valor de e: False\n",
      "True\n",
      "True\n"
     ]
    }
   ],
   "source": [
    "a = 5\n",
    "b = 2\n",
    "\n",
    "c = a < b\n",
    "d = a > b\n",
    "e = a == b\n",
    "\n",
    "print('Valor de c:', c)\n",
    "print('Valor de d:', d)\n",
    "print('Valor de e:', e)\n",
    "print(a >= b)\n",
    "print(b <= b)"
   ]
  },
  {
   "cell_type": "code",
   "execution_count": 10,
   "id": "b8710b56",
   "metadata": {},
   "outputs": [
    {
     "name": "stdout",
     "output_type": "stream",
     "text": [
      "12\n",
      "10\n",
      "5.0\n",
      "10.0\n"
     ]
    }
   ],
   "source": [
    "a = 10\n",
    "b = 2\n",
    "\n",
    "a += b  # a + b\n",
    "print(a)\n",
    "\n",
    "a -= b  # a - b\n",
    "print(a)\n",
    "\n",
    "a /= b  # a / b\n",
    "print(a)\n",
    "\n",
    "a *= b  # a * b\n",
    "print(a)"
   ]
  },
  {
   "cell_type": "code",
   "execution_count": 11,
   "id": "358e4995",
   "metadata": {
    "tags": [
     "remove-output"
    ]
   },
   "outputs": [
    {
     "ename": "StdinNotImplementedError",
     "evalue": "raw_input was called, but this frontend does not support input requests.",
     "output_type": "error",
     "traceback": [
      "\u001b[0;31m---------------------------------------------------------------------------\u001b[0m",
      "\u001b[0;31mStdinNotImplementedError\u001b[0m                  Traceback (most recent call last)",
      "Cell \u001b[0;32mIn[11], line 1\u001b[0m\n\u001b[0;32m----> 1\u001b[0m nome \u001b[38;5;241m=\u001b[39m \u001b[38;5;28;43minput\u001b[39;49m\u001b[43m(\u001b[49m\u001b[38;5;124;43m'\u001b[39;49m\u001b[38;5;124;43mQual seu nome? \u001b[39;49m\u001b[38;5;124;43m'\u001b[39;49m\u001b[43m)\u001b[49m\n\u001b[1;32m      2\u001b[0m idade \u001b[38;5;241m=\u001b[39m \u001b[38;5;28mint\u001b[39m(\u001b[38;5;28minput\u001b[39m(\u001b[38;5;124m'\u001b[39m\u001b[38;5;124mQual sua idade? \u001b[39m\u001b[38;5;124m'\u001b[39m))\n\u001b[1;32m      3\u001b[0m altura \u001b[38;5;241m=\u001b[39m \u001b[38;5;28mfloat\u001b[39m(\u001b[38;5;28minput\u001b[39m(\u001b[38;5;124m'\u001b[39m\u001b[38;5;124mQual sua altura? \u001b[39m\u001b[38;5;124m'\u001b[39m))\n",
      "File \u001b[0;32m~/miniconda3/envs/book/lib/python3.9/site-packages/ipykernel/kernelbase.py:1190\u001b[0m, in \u001b[0;36mKernel.raw_input\u001b[0;34m(self, prompt)\u001b[0m\n\u001b[1;32m   1188\u001b[0m \u001b[38;5;28;01mif\u001b[39;00m \u001b[38;5;129;01mnot\u001b[39;00m \u001b[38;5;28mself\u001b[39m\u001b[38;5;241m.\u001b[39m_allow_stdin:\n\u001b[1;32m   1189\u001b[0m     msg \u001b[38;5;241m=\u001b[39m \u001b[38;5;124m\"\u001b[39m\u001b[38;5;124mraw_input was called, but this frontend does not support input requests.\u001b[39m\u001b[38;5;124m\"\u001b[39m\n\u001b[0;32m-> 1190\u001b[0m     \u001b[38;5;28;01mraise\u001b[39;00m StdinNotImplementedError(msg)\n\u001b[1;32m   1191\u001b[0m \u001b[38;5;28;01mreturn\u001b[39;00m \u001b[38;5;28mself\u001b[39m\u001b[38;5;241m.\u001b[39m_input_request(\n\u001b[1;32m   1192\u001b[0m     \u001b[38;5;28mstr\u001b[39m(prompt),\n\u001b[1;32m   1193\u001b[0m     \u001b[38;5;28mself\u001b[39m\u001b[38;5;241m.\u001b[39m_parent_ident[\u001b[38;5;124m\"\u001b[39m\u001b[38;5;124mshell\u001b[39m\u001b[38;5;124m\"\u001b[39m],\n\u001b[1;32m   1194\u001b[0m     \u001b[38;5;28mself\u001b[39m\u001b[38;5;241m.\u001b[39mget_parent(\u001b[38;5;124m\"\u001b[39m\u001b[38;5;124mshell\u001b[39m\u001b[38;5;124m\"\u001b[39m),\n\u001b[1;32m   1195\u001b[0m     password\u001b[38;5;241m=\u001b[39m\u001b[38;5;28;01mFalse\u001b[39;00m,\n\u001b[1;32m   1196\u001b[0m )\n",
      "\u001b[0;31mStdinNotImplementedError\u001b[0m: raw_input was called, but this frontend does not support input requests."
     ]
    }
   ],
   "source": [
    "nome = input('Qual seu nome? ')\n",
    "idade = int(input('Qual sua idade? '))\n",
    "altura = float(input('Qual sua altura? '))\n",
    "peso = float(input('Qual seu peso? '))\n",
    "\n",
    "print('Nome: %s' % nome)\n",
    "print('Idade: %d' % idade)\n",
    "\n",
    "imc = peso / ( altura * altura )\n",
    "print('O IMC =', imc)\n",
    "print('Muito abaixo do peso:', imc < 17)\n",
    "print('Abaixo do peso normal:', imc >= 17 and imc < 18.5)\n",
    "print('Peso dentro do normal:', imc >= 18.5 and imc < 25.0)\n",
    "print('Acima do peso normal:', imc >= 25 and imc < 30)\n",
    "print('Muito acima do peso:', imc >= 30)"
   ]
  },
  {
   "cell_type": "markdown",
   "id": "476652bb",
   "metadata": {},
   "source": [
    "## Comandos Condicionais - if"
   ]
  },
  {
   "cell_type": "code",
   "execution_count": null,
   "id": "1a03a6d7",
   "metadata": {
    "tags": [
     "remove-output"
    ]
   },
   "outputs": [],
   "source": [
    "nota = int(input('Digite uma nota: '))\n",
    "\n",
    "if nota < 60:\n",
    "    print('Reprovado')\n",
    "else:\n",
    "    print('Aprovado')"
   ]
  },
  {
   "cell_type": "code",
   "execution_count": null,
   "id": "261eca6a",
   "metadata": {
    "tags": [
     "remove-output"
    ]
   },
   "outputs": [],
   "source": [
    "nota = int(input('Digite uma nota: '))\n",
    "\n",
    "if nota < 30:\n",
    "    print('Reprovado')\n",
    "elif nota <= 50:\n",
    "    print('Recuperação')\n",
    "else:\n",
    "    print('Aprovado')"
   ]
  },
  {
   "cell_type": "code",
   "execution_count": null,
   "id": "0a2c6433",
   "metadata": {
    "tags": [
     "remove-output"
    ]
   },
   "outputs": [],
   "source": [
    "n1 = int(input('Digite o primeiro número: '))\n",
    "n2 = int(input('Digite o segundo número: '))\n",
    "\n",
    "if n1 > n2:\n",
    "    print(n1, 'maior que', n2)\n",
    "elif n1 < n2:\n",
    "    print('%d maior que %d' % (n2, n1))\n",
    "else:\n",
    "    print('Os números são iguais')"
   ]
  },
  {
   "cell_type": "markdown",
   "id": "58f035fd",
   "metadata": {},
   "source": [
    "## Comandos de Repetição - while"
   ]
  },
  {
   "cell_type": "code",
   "execution_count": null,
   "id": "5eeac098",
   "metadata": {
    "tags": [
     "remove-output"
    ]
   },
   "outputs": [],
   "source": [
    "while (expressão condicional):\n",
    "    bloco de comandos"
   ]
  },
  {
   "cell_type": "code",
   "execution_count": null,
   "id": "b373e9df",
   "metadata": {},
   "outputs": [],
   "source": [
    "contador = 1\n",
    "\n",
    "while contador <= 5:\n",
    "    print(contador)\n",
    "    contador += 1"
   ]
  },
  {
   "cell_type": "code",
   "execution_count": null,
   "id": "fbd9927d",
   "metadata": {
    "tags": [
     "remove-output"
    ]
   },
   "outputs": [],
   "source": [
    "nota = -1\n",
    "while nota < 0 or nota > 10:\n",
    "    nota = int(input('Digite uma nota válida de 0 a 10: '))\n",
    "\n",
    "print('Nota: %s' % nota)"
   ]
  },
  {
   "cell_type": "markdown",
   "id": "1a068e1f",
   "metadata": {},
   "source": [
    "## Comandos de Repetição - for"
   ]
  },
  {
   "cell_type": "code",
   "execution_count": null,
   "id": "557cbc95",
   "metadata": {
    "tags": [
     "remove-output"
    ]
   },
   "outputs": [],
   "source": [
    "for (número de iterações):\n",
    "    bloco de comandos"
   ]
  },
  {
   "cell_type": "code",
   "execution_count": null,
   "id": "0037e00c",
   "metadata": {},
   "outputs": [],
   "source": [
    "print(list(range(5)))\n",
    "print(list(range(1, 5)))\n",
    "print(list(range(2, 10, 3)))"
   ]
  },
  {
   "cell_type": "code",
   "execution_count": null,
   "id": "700c2ff3",
   "metadata": {},
   "outputs": [],
   "source": [
    "for i in range(5):\n",
    "    print('Bem-vindo ao curso de Python!')"
   ]
  },
  {
   "cell_type": "code",
   "execution_count": null,
   "id": "72df87b3",
   "metadata": {},
   "outputs": [],
   "source": [
    "for i in range(0, 5):\n",
    "    print(i)"
   ]
  },
  {
   "cell_type": "code",
   "execution_count": null,
   "id": "9d31d36a",
   "metadata": {},
   "outputs": [],
   "source": [
    "for i in range(0, 10, 2): # Varia de 0 a 10, mas aumentando de 2 em 2\n",
    "    print(i)"
   ]
  },
  {
   "cell_type": "code",
   "execution_count": null,
   "id": "59f3f426",
   "metadata": {
    "tags": [
     "remove-output"
    ]
   },
   "outputs": [],
   "source": [
    "total = 0\n",
    "\n",
    "for i in range(0, 5):\n",
    "    num = int(input('Digite um num: '))\n",
    "    total += num\n",
    "\n",
    "print('Soma: %s' % (total))\n",
    "print('Media: %s' % (total/5))"
   ]
  },
  {
   "cell_type": "code",
   "execution_count": null,
   "id": "f6fb977f",
   "metadata": {},
   "outputs": [],
   "source": [
    "tab=int(input('Tabuada do número: '))\n",
    "\n",
    "for i in range(10):\n",
    "    print('%d x %d = %d' % (tab, i + 1, tab * (i + 1)))"
   ]
  }
 ],
 "metadata": {
  "jupytext": {
   "formats": "md:myst",
   "text_representation": {
    "extension": ".md",
    "format_name": "myst",
    "format_version": 0.13,
    "jupytext_version": "1.11.5"
   }
  },
  "kernelspec": {
   "display_name": "Python 3",
   "language": "python",
   "name": "python3"
  },
  "language_info": {
   "codemirror_mode": {
    "name": "ipython",
    "version": 3
   },
   "file_extension": ".py",
   "mimetype": "text/x-python",
   "name": "python",
   "nbconvert_exporter": "python",
   "pygments_lexer": "ipython3",
   "version": "3.9.16"
  },
  "source_map": [
   13,
   20,
   22,
   26,
   38,
   46,
   64,
   68,
   90,
   105,
   113,
   118,
   122,
   137,
   154,
   171,
   175,
   185,
   197,
   208,
   212,
   218,
   226,
   233,
   237,
   243,
   249,
   254,
   259,
   264,
   276
  ]
 },
 "nbformat": 4,
 "nbformat_minor": 5
}